{
 "cells": [
  {
   "cell_type": "code",
   "execution_count": null,
   "id": "1186085e",
   "metadata": {},
   "outputs": [],
   "source": [
    "import os\n",
    "os.chdir('C:/Users/Shubham Kansal/Desktop/Python_Directory/ModelDeployment')"
   ]
  },
  {
   "cell_type": "markdown",
   "id": "233b6844",
   "metadata": {},
   "source": [
    "## Workspace & ResourceGroup"
   ]
  },
  {
   "cell_type": "code",
   "execution_count": 1,
   "id": "b6a670aa",
   "metadata": {},
   "outputs": [
    {
     "name": "stderr",
     "output_type": "stream",
     "text": [
      "UserWarning: The resource group doesn't exist or was not provided. AzureML SDK is creating a resource group=TestDeployment in location=eastus using subscription=597aaac7-ba77-4b65-a624-d472f5085556.\n"
     ]
    },
    {
     "name": "stdout",
     "output_type": "stream",
     "text": [
      "Deploying KeyVault with name deploymekeyvault17d220d3.\n",
      "Deploying StorageAccount with name deploymestorage064048b40.\n",
      "Deploying AppInsights with name deploymeinsights0dd08e9c.\n",
      "Deployed AppInsights with name deploymeinsights0dd08e9c. Took 7.39 seconds.\n",
      "Deployed KeyVault with name deploymekeyvault17d220d3. Took 24.3 seconds.\n",
      "Deployed StorageAccount with name deploymestorage064048b40. Took 29.48 seconds.\n",
      "Deploying Workspace with name Deployment_Workspace.\n",
      "Deployed Workspace with name Deployment_Workspace. Took 81.07 seconds.\n"
     ]
    }
   ],
   "source": [
    "from azureml.core import Workspace, Dataset, Datastore\n",
    "\n",
    "ws = Workspace.create(name='Deployment_Workspace',\n",
    "                      subscription_id='597aaac7-ba77-4b65-a624-d472f5085556',\n",
    "                      resource_group='TestDeployment',\n",
    "                      create_resource_group=True,   # True if it does not exist\n",
    "                      location='eastus',\n",
    "                      exist_ok= True)\n",
    "\n",
    "ws.write_config(path=\".\")"
   ]
  },
  {
   "cell_type": "markdown",
   "id": "b3c00da1",
   "metadata": {},
   "source": [
    "## Datastore"
   ]
  },
  {
   "cell_type": "code",
   "execution_count": 2,
   "id": "e6a568a0",
   "metadata": {},
   "outputs": [],
   "source": [
    "from azureml.core import Datastore\n",
    "\n",
    "az_store = Datastore.register_azure_blob_container(\n",
    "           workspace=ws,\n",
    "           datastore_name=\"deploydatastore\",\n",
    "           account_name=\"depstorageact\",\n",
    "           container_name=\"deploycontainer\",\n",
    "           account_key=\"JApqGoyp+TkqmCNnJVpQD0BUqQyVbnO8zt1e/vVBbr2/+71iK1+DWMdlUq+b9JX7xwFl+CGdZ8x08hpCZrdBHg==\")"
   ]
  },
  {
   "cell_type": "markdown",
   "id": "7fb5a0ad",
   "metadata": {},
   "source": [
    "## Dataset"
   ]
  },
  {
   "cell_type": "code",
   "execution_count": 3,
   "id": "c7bce1e5",
   "metadata": {},
   "outputs": [],
   "source": [
    "from azureml.core import Dataset\n",
    "az_store = Datastore.get(ws, \"deploydatastore\")\n",
    "\n",
    "# -----------------------------------------------------\n",
    "# Create and register the dataset\n",
    "# -----------------------------------------------------\n",
    "\n",
    "# Create the path of the csv file\n",
    "csv_path = [(az_store, \"Dataset/adultIncome.csv\")] #path of the file stored in the storage account\n",
    "\n",
    "# Create the dataset\n",
    "loan_dataset = Dataset.Tabular.from_delimited_files(path=csv_path)\n",
    "# Register the dataset\n",
    "loan_dataset = loan_dataset.register(workspace=ws,\n",
    "                                     name=\"Deploydataset\",\n",
    "                                     create_new_version=True)"
   ]
  },
  {
   "cell_type": "raw",
   "id": "623ed229",
   "metadata": {},
   "source": [
    "***************************************************ConfigurationEnd************************************************************"
   ]
  }
 ],
 "metadata": {
  "kernelspec": {
   "display_name": "Python 3",
   "language": "python",
   "name": "python3"
  },
  "language_info": {
   "codemirror_mode": {
    "name": "ipython",
    "version": 3
   },
   "file_extension": ".py",
   "mimetype": "text/x-python",
   "name": "python",
   "nbconvert_exporter": "python",
   "pygments_lexer": "ipython3",
   "version": "3.8.8"
  }
 },
 "nbformat": 4,
 "nbformat_minor": 5
}
