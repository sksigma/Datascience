{
 "cells": [
  {
   "cell_type": "code",
   "execution_count": 1,
   "id": "d4db0dcc",
   "metadata": {},
   "outputs": [
    {
     "name": "stdout",
     "output_type": "stream",
     "text": [
      "Accessing the workspace....\n",
      "Accessing the dataset....\n",
      "Accessing/Creating the experiment...\n",
      "Start Experiment using Start Logging method...\n",
      "Loading the dataset to pandas dataframe...\n"
     ]
    }
   ],
   "source": [
    "from azureml.core import Workspace, Dataset, Experiment\n",
    "\n",
    "print('Accessing the workspace....')\n",
    "ws = Workspace.from_config(\"./config\")\n",
    "\n",
    "print('Accessing the dataset....')\n",
    "az_dataset = Dataset.get_by_name(ws, 'Deploydataset')\n",
    "\n",
    "# -----------------------------------------------------\n",
    "# Create/Access an experiment object\n",
    "# ----------------------------------------------------\n",
    "\n",
    "print('Accessing/Creating the experiment...')\n",
    "experiment = Experiment(workspace=ws, name='Webservice-exp001')\n",
    "\n",
    "# -----------------------------------------------------\n",
    "# Run an experiment using start_logging method\n",
    "# -----------------------------------------------------\n",
    "print('Start Experiment using Start Logging method...')\n",
    "new_run = experiment.start_logging()\n",
    "\n",
    "# --------------------------------------------------------\n",
    "# Do your stuff here\n",
    "# --------------------------------------------------------\n",
    "import pandas as pd\n",
    "\n",
    "# Load the data from the local files\n",
    "print('Loading the dataset to pandas dataframe...')\n",
    "df = az_dataset.to_pandas_dataframe()\n",
    "\n",
    "# Create X and Y Variables\n",
    "X = df.iloc[:, :-1]\n",
    "Y = df.iloc[:, -1:]\n",
    "\n",
    "# Create dummy variables\n",
    "X = pd.get_dummies(X)\n",
    "\n",
    "# Extract column names including dummy variables\n",
    "train_enc_cols = X.columns\n",
    "\n",
    "\n",
    "# Transform Categorical columns in Y dataset to dummy\n",
    "Y = pd.get_dummies(Y)\n",
    "Y = Y.iloc[:,-1]\n",
    "\n",
    "# Split Data - X and Y datasets are training and testing sets\n",
    "from sklearn.model_selection import train_test_split\n",
    "\n",
    "X_train, X_test, Y_train, Y_test = \\\n",
    "train_test_split(X, Y, test_size = 0.3, random_state = 1234, stratify=Y)\n",
    "\n",
    "# Build the Random Forest model\n",
    "from sklearn.ensemble import RandomForestClassifier\n",
    "\n",
    "rfc = RandomForestClassifier(random_state=1234)\n",
    "\n",
    "# Fit the data to the Random Forest object - Train Model\n",
    "trained_model = rfc.fit(X_train, Y_train)\n",
    "\n",
    "\n",
    "# Predict the outcome using Test data - Score Model \n",
    "Y_predict = rfc.predict(X_test)\n",
    "\n",
    "# Get the probability score - Scored Probabilities\n",
    "Y_prob = rfc.predict_proba(X_test)[:, 1]\n",
    "\n",
    "# Get Confusion matrix and the accuracy/score - Evaluate\n",
    "from sklearn.metrics import confusion_matrix\n",
    "cm    = confusion_matrix(Y_test, Y_predict)\n",
    "score = rfc.score(X_test, Y_test)\n",
    "\n",
    "# Always log the primary metric\n",
    "new_run.log(\"accuracy\", score)"
   ]
  },
  {
   "cell_type": "code",
   "execution_count": 2,
   "id": "9ad0d785",
   "metadata": {},
   "outputs": [
    {
     "data": {
      "text/plain": [
       "[Run(Experiment: Webservice-exp001,\n",
       " Id: abf05884-3865-4414-b853-c9df387c9913,\n",
       " Type: None,\n",
       " Status: Completed)]"
      ]
     },
     "execution_count": 2,
     "metadata": {},
     "output_type": "execute_result"
    }
   ],
   "source": [
    "# -------------------------------------------------------\n",
    "# Save all the transformations and models\n",
    "# -------------------------------------------------------\n",
    "import joblib\n",
    "model_file = './outputs/models.pkl'\n",
    "\n",
    "joblib.dump(value=[train_enc_cols, trained_model], \n",
    "            filename=model_file)\n",
    "\n",
    "# Complete the run\n",
    "new_run.complete()\n",
    "\n",
    "# Get the Run IDs from the experiment\n",
    "list(experiment.get_runs())"
   ]
  },
  {
   "cell_type": "code",
   "execution_count": null,
   "id": "319ff7a8",
   "metadata": {},
   "outputs": [],
   "source": []
  }
 ],
 "metadata": {
  "kernelspec": {
   "display_name": "Python 3",
   "language": "python",
   "name": "python3"
  },
  "language_info": {
   "codemirror_mode": {
    "name": "ipython",
    "version": 3
   },
   "file_extension": ".py",
   "mimetype": "text/x-python",
   "name": "python",
   "nbconvert_exporter": "python",
   "pygments_lexer": "ipython3",
   "version": "3.8.8"
  }
 },
 "nbformat": 4,
 "nbformat_minor": 5
}
