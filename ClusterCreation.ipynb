{
 "cells": [
  {
   "cell_type": "markdown",
   "id": "59fe0b99",
   "metadata": {},
   "source": [
    "## Provision & Create AKS Cluster"
   ]
  },
  {
   "cell_type": "code",
   "execution_count": 1,
   "id": "05693671",
   "metadata": {},
   "outputs": [
    {
     "name": "stdout",
     "output_type": "stream",
     "text": [
      "Accessing the workspace from job....\n",
      "Creating dependencies....\n",
      "Registering the environment...\n",
      "aks-cluster-001 does not exist. Creating a new one...\n",
      "Creating provisioniong config for Aks cluster....\n",
      "Creating the AKS Cluster...\n",
      "InProgress......................................................................................\n",
      "SucceededProvisioning operation finished, operation \"Succeeded\"\n"
     ]
    }
   ],
   "source": [
    "# Import the Azure ML classes\n",
    "from azureml.core import Workspace\n",
    "\n",
    "# Access the workspace using config.json\n",
    "print(\"Accessing the workspace from job....\")\n",
    "ws = Workspace.from_config(\"./config\")\n",
    "\n",
    "\n",
    "# -------------------------------------------------\n",
    "# Create custom environment\n",
    "# -------------------------------------------------\n",
    "from azureml.core import Environment\n",
    "from azureml.core.environment import CondaDependencies\n",
    "\n",
    "# Create the environment\n",
    "myenv = Environment(name=\"MyEnvironment\")\n",
    "\n",
    "# Create the dependencies object\n",
    "print(\"Creating dependencies....\")\n",
    "myenv_dep = CondaDependencies.create(conda_packages=['scikit-learn', 'pip','pandas'],\n",
    "                                     pip_packages=['azureml-defaults'])\n",
    "\n",
    "myenv.python.conda_dependencies = myenv_dep\n",
    "\n",
    "# Register the environment\n",
    "print(\"Registering the environment...\")\n",
    "myenv.register(ws)\n",
    "\n",
    "# -------------------------------------------------------------\n",
    "# Create an Azure Kubernets Cluster\n",
    "# -------------------------------------------------------------\n",
    "from azureml.core.compute import AksCompute, ComputeTarget\n",
    "\n",
    "cluster_name = 'aks-cluster-001'\n",
    "\n",
    "if cluster_name not in ws.compute_targets:\n",
    "    print(cluster_name, \"does not exist. Creating a new one...\")\n",
    "    print('Creating provisioniong config for Aks cluster....')\n",
    "\n",
    "    aks_config = AksCompute.provisioning_configuration(location='eastus',\n",
    "                                                       vm_size='STANDARD_D11_V2',\n",
    "                                                       agent_count=1,\n",
    "                                                       cluster_purpose='DevTest')\n",
    "\n",
    "    print(\"Creating the AKS Cluster...\")\n",
    "    production_cluster = ComputeTarget.create(ws, cluster_name, aks_config)\n",
    "    production_cluster.wait_for_completion(show_output=True)\n",
    "else:\n",
    "    print(cluster_name, \"exists. Using it...\")\n",
    "    production_cluster = ws.compute_targets[cluster_name]\n"
   ]
  },
  {
   "cell_type": "code",
   "execution_count": 2,
   "id": "1b546910",
   "metadata": {},
   "outputs": [
    {
     "name": "stdout",
     "output_type": "stream",
     "text": [
      "Creating Inference Configuration...\n",
      "Creating the Deployment configuration for webservice...\n"
     ]
    }
   ],
   "source": [
    "# -------------------------------------------------\n",
    "# Create Inference Configuration\n",
    "# -------------------------------------------------\n",
    "from azureml.core.model import InferenceConfig\n",
    "\n",
    "print(\"Creating Inference Configuration...\")\n",
    "inference_config = InferenceConfig(source_directory = '.',\n",
    "                                   entry_script=\"Scoring_Script.py\",\n",
    "                                   environment=myenv)\n",
    "\n",
    "\n",
    "# -------------------------------------------------\n",
    "# Create service deployment configuration\n",
    "# -------------------------------------------------\n",
    "from azureml.core.webservice import AksWebservice\n",
    "\n",
    "print('Creating the Deployment configuration for webservice...')\n",
    "deploy_config = AksWebservice.deploy_configuration(cpu_cores = 1,\n",
    "                                                   memory_gb = 1)"
   ]
  },
  {
   "cell_type": "markdown",
   "id": "7178317f",
   "metadata": {},
   "source": [
    "## Deployment Code"
   ]
  },
  {
   "cell_type": "code",
   "execution_count": 3,
   "id": "419d80d9",
   "metadata": {},
   "outputs": [
    {
     "name": "stdout",
     "output_type": "stream",
     "text": [
      "Deploying the web service....\n",
      "Tips: You can try get_logs(): https://aka.ms/debugimage#dockerlog or local deployment: https://aka.ms/debugimage#debug-locally to debug if deployment takes longer than 10 minutes.\n",
      "Running\n",
      "2021-09-29 17:16:34+05:30 Creating Container Registry if not exists..\n",
      "2021-09-29 17:26:35+05:30 Registering the environment..\n",
      "2021-09-29 17:26:38+05:30 Building image..\n",
      "2021-09-29 17:32:08+05:30 Creating resources in AKS.\n",
      "2021-09-29 17:32:09+05:30 Submitting deployment to compute.\n",
      "2021-09-29 17:32:10+05:30 Checking the status of deployment firstmodelservice..\n",
      "2021-09-29 17:35:30+05:30 Checking the status of inference endpoint firstmodelservice.\n",
      "Succeeded\n",
      "AKS service creation operation finished, operation \"Succeeded\"\n"
     ]
    }
   ],
   "source": [
    "# -------------------------------------------------\n",
    "# Create and deploy the webservice\n",
    "# -------------------------------------------------\n",
    "from azureml.core.model import Model\n",
    "\n",
    "model = ws.models['FirstDeployedModel']\n",
    "\n",
    "print('Deploying the web service....')\n",
    "service = Model.deploy(workspace=ws,\n",
    "                       name = 'firstmodelservice',\n",
    "                       models = [model],\n",
    "                       inference_config = inference_config,\n",
    "                       deployment_config = deploy_config,\n",
    "                       deployment_target = production_cluster)\n",
    "\n",
    "service.wait_for_deployment(show_output = True)"
   ]
  },
  {
   "cell_type": "code",
   "execution_count": null,
   "id": "43f12414",
   "metadata": {},
   "outputs": [],
   "source": []
  }
 ],
 "metadata": {
  "kernelspec": {
   "display_name": "Python 3",
   "language": "python",
   "name": "python3"
  },
  "language_info": {
   "codemirror_mode": {
    "name": "ipython",
    "version": 3
   },
   "file_extension": ".py",
   "mimetype": "text/x-python",
   "name": "python",
   "nbconvert_exporter": "python",
   "pygments_lexer": "ipython3",
   "version": "3.8.8"
  }
 },
 "nbformat": 4,
 "nbformat_minor": 5
}
