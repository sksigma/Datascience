{
 "cells": [
  {
   "cell_type": "code",
   "execution_count": 4,
   "id": "a4d1f72e",
   "metadata": {},
   "outputs": [
    {
     "name": "stdout",
     "output_type": "stream",
     "text": [
      "\n",
      " FirstDeployedModel version: 1\n",
      "\t Run_ID :  abf05884-3865-4414-b853-c9df387c9913\n",
      "\t Accuracy : 0.8549493295117208\n",
      "\t source : SDK Run\n",
      "\t algorithm : RandomForest\n"
     ]
    }
   ],
   "source": [
    "# -----------------------------------------------------------------\n",
    "# Register the model from workspace using run_id and local pkl file\n",
    "# -----------------------------------------------------------------\n",
    "from azureml.core import Workspace, Model, Run\n",
    "\n",
    "# Access the workspace using config.json\n",
    "ws = Workspace.from_config(\"./config\")\n",
    "\n",
    "# Access the run using run_id\n",
    "new_run = ws.get_run('abf05884-3865-4414-b853-c9df387c9913')\n",
    "\n",
    "# --------------------------------------------------------------------\n",
    "# Register the model using the run object and uploaded pkl file\n",
    "# --------------------------------------------------------------------\n",
    "new_run.register_model(model_path='outputs/models.pkl', \n",
    "                       model_name='FirstDeployedModel',\n",
    "                       tags={'source':'SDK Run', 'algorithm':'RandomForest'},\n",
    "                       properties={'Accuracy': new_run.get_metrics()['accuracy']},\n",
    "                       description=\"Model Deployment Test\")\n",
    "\n",
    "# --------------------------------------------------------------------\n",
    "# Retrieve the registered models\n",
    "# --------------------------------------------------------------------\n",
    "Model.list(ws)\n",
    "\n",
    "for model in Model.list(ws):\n",
    "    \n",
    "    print('\\n', model.name, 'version:', model.version)\n",
    "    print('\\t', 'Run_ID : ', model.run_id)\n",
    "    for prop_name in model.properties:\n",
    "        prop = model.properties[prop_name]\n",
    "        print ('\\t',prop_name, ':', prop)\n",
    "    \n",
    "    for tags in model.tags:\n",
    "        tag = model.tags[tags]\n",
    "        print ('\\t',tags, ':', tag)"
   ]
  },
  {
   "cell_type": "code",
   "execution_count": null,
   "id": "e4942a97",
   "metadata": {},
   "outputs": [],
   "source": []
  }
 ],
 "metadata": {
  "kernelspec": {
   "display_name": "Python 3",
   "language": "python",
   "name": "python3"
  },
  "language_info": {
   "codemirror_mode": {
    "name": "ipython",
    "version": 3
   },
   "file_extension": ".py",
   "mimetype": "text/x-python",
   "name": "python",
   "nbconvert_exporter": "python",
   "pygments_lexer": "ipython3",
   "version": "3.8.8"
  }
 },
 "nbformat": 4,
 "nbformat_minor": 5
}
