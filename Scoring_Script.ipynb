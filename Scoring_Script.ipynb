{
 "cells": [
  {
   "cell_type": "code",
   "execution_count": 1,
   "id": "ad714feb",
   "metadata": {},
   "outputs": [],
   "source": [
    "import json\n",
    "import joblib\n",
    "from azureml.core.model import Model\n",
    "import pandas as pd\n",
    "\n",
    "# Called when the service is loaded\n",
    "def init():\n",
    "    global ref_cols, predictor\n",
    "    \n",
    "    # Get the path to the registered model file and load it\n",
    "    model_path = Model.get_model_path('')\n",
    "    ref_cols, predictor = joblib.load(model_path)\n",
    "\n",
    "\n",
    "# Called when a request is received\n",
    "def run(raw_data):\n",
    "    # Get the input data as a dictionary\n",
    "    data_dict = json.loads(raw_data)['data']\n",
    "    \n",
    "    # Convert dictionary to pandas dataframe\n",
    "    data = pd.DataFrame.from_dict(data_dict)\n",
    "    \n",
    "    data_enc = pd.get_dummies(data)\n",
    "    deploy_cols = data_enc.columns\n",
    "\n",
    "    # difference of train and deploy\n",
    "    missing_cols = ref_cols.difference(deploy_cols)\n",
    "\n",
    "    for cols in missing_cols:\n",
    "        data_enc[cols] = 0\n",
    "\n",
    "    data_enc = data_enc[ref_cols]\n",
    "\n",
    "    # Get a prediction from the model\n",
    "    predictions = predictor.predict(data_enc)\n",
    "    classes = [ 'Greater Than 50K','Less Than 50K']\n",
    "    \n",
    "    predicted_classes = []\n",
    "    for prediction in predictions:\n",
    "        predicted_classes.append(classes[prediction])\n",
    "    \n",
    "    # Return the predictions\n",
    "    return json.dumps(predicted_classes)"
   ]
  },
  {
   "cell_type": "code",
   "execution_count": null,
   "id": "096ad9c9",
   "metadata": {},
   "outputs": [],
   "source": []
  }
 ],
 "metadata": {
  "kernelspec": {
   "display_name": "Python 3",
   "language": "python",
   "name": "python3"
  },
  "language_info": {
   "codemirror_mode": {
    "name": "ipython",
    "version": 3
   },
   "file_extension": ".py",
   "mimetype": "text/x-python",
   "name": "python",
   "nbconvert_exporter": "python",
   "pygments_lexer": "ipython3",
   "version": "3.8.8"
  }
 },
 "nbformat": 4,
 "nbformat_minor": 5
}
